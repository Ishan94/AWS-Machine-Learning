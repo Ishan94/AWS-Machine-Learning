{
 "cells": [
  {
   "cell_type": "markdown",
   "id": "76ecf59d",
   "metadata": {},
   "source": [
    "# Machine Learning NanoDegree Capstone Project"
   ]
  },
  {
   "cell_type": "markdown",
   "id": "4d6aa38c",
   "metadata": {},
   "source": [
    "## Introduction"
   ]
  },
  {
   "cell_type": "markdown",
   "id": "de01537a",
   "metadata": {},
   "source": [
    "This is the Capstone Project for Udacity Machine Learning NanoDegree Program. The problem statement is based on Starbucks Company where the task is to streamline the online marketing scheme for the products by predicting if customers will respond positively to certain different types of offers provided to them.\n",
    "\n",
    "Three different types of offers are considered namely: BOGO (Buy one Get One), Discount and Informational Offers. \n",
    "\n",
    "In this project we have taken differnt demographic and customer specific information to build a machine learning model which helps in forecasting the customer response to a Starbucks offer. Detailed implementation and methdology has been explained in the attached pdf file and the notebook implementation."
   ]
  },
  {
   "cell_type": "markdown",
   "id": "7d76d238",
   "metadata": {},
   "source": [
    "## Included in this Repository"
   ]
  },
  {
   "cell_type": "markdown",
   "id": "a80d4a9f",
   "metadata": {},
   "source": [
    "* **data.zip** -- Input data to be used in implementation\n",
    "* **proposal.pdf** -- proposal for the capstone project\n",
    "* **Starbucks_Capstone_Ishan_Pathak.ipynb** -- code for implementation of the project\n",
    "* **Starbucks_Report.pdf** -- Final project report explaining the implemnetation methodology\n",
    "\n"
   ]
  },
  {
   "cell_type": "markdown",
   "id": "9d5e3374",
   "metadata": {},
   "source": [
    "## Seting up the Environment"
   ]
  },
  {
   "cell_type": "markdown",
   "id": "66d760f8",
   "metadata": {},
   "source": [
    "Unzip the data and place the data folder in the root directory. This contains the three input files that will be required in the implementation\n",
    "\n",
    "* portfolio.json\n",
    "* profile.json\n",
    "* transcript.json"
   ]
  },
  {
   "cell_type": "markdown",
   "id": "1f6f8cde",
   "metadata": {},
   "source": [
    "## Required Libraries"
   ]
  },
  {
   "cell_type": "markdown",
   "id": "d88f58a3",
   "metadata": {},
   "source": [
    "The following libraries/frameworks are required. \n",
    "\n",
    "* jupyter\n",
    "* pandas\n",
    "* numpy\n",
    "* matplotlib\n",
    "* sckitlearn\n",
    "* AWS SageMaker"
   ]
  }
 ],
 "metadata": {
  "kernelspec": {
   "display_name": "conda_python3",
   "language": "python",
   "name": "conda_python3"
  },
  "language_info": {
   "codemirror_mode": {
    "name": "ipython",
    "version": 3
   },
   "file_extension": ".py",
   "mimetype": "text/x-python",
   "name": "python",
   "nbconvert_exporter": "python",
   "pygments_lexer": "ipython3",
   "version": "3.6.13"
  }
 },
 "nbformat": 4,
 "nbformat_minor": 5
}
